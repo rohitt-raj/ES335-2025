{
 "cells": [
  {
   "cell_type": "markdown",
   "id": "d9ccbf37",
   "metadata": {},
   "source": [
    "### ES 335: Machine Learning\n",
    "#### Prerequisite Test submission  \n",
    "Rohit Raj  \n",
    "21110179  \n",
    "10 Aug 2025"
   ]
  },
  {
   "cell_type": "markdown",
   "id": "7432f094",
   "metadata": {},
   "source": [
    "---"
   ]
  },
  {
   "cell_type": "code",
   "execution_count": 3,
   "id": "d9745717",
   "metadata": {},
   "outputs": [],
   "source": [
    "import numpy as np\n",
    "import pandas as pd\n",
    "import matplotlib.pyplot as plt\n",
    "import time\n",
    "import random\n"
   ]
  },
  {
   "cell_type": "markdown",
   "id": "afe78a3c",
   "metadata": {},
   "source": [
    "### Problem 1"
   ]
  },
  {
   "cell_type": "markdown",
   "id": "5bdc4702",
   "metadata": {},
   "source": [
    "Let, the dimensions of matrices $\\bold A$ and $\\bold B$ be $(n,k)$ and $(k,m)$, respectively."
   ]
  },
  {
   "cell_type": "markdown",
   "id": "b3769268",
   "metadata": {},
   "source": [
    "We are doing matrix multiplication of $\\bold A$ and $\\bold B$.\n",
    "Each row of $\\bold A$ contains `k` elements. Same goes for each column of $\\bold B$. If we start with first row of $\\bold A$ and the first column of $\\bold B$, we multiply each corresponding element, thereby totalling to `k` multiplications.  \n",
    "For additions: The expression 1+2+3 contains 2 additions (first (1+2) happens and then (3)+3). So, in the above step, `k` values are added, totalling to `k-1` additions.\n",
    "For the first row of $\\bold A$, this process happens for each column of $\\bold B$. There are `m` columns in $\\bold B$. So, total multiplications now become `k*m` and total additions become `(k-1)*m`.  \n",
    "This process happens for each row of $\\bold A$. As there are `n` rows in $\\bold A$, the total multiplications, thus, becomes `k*m*n` and total additions becomes `(k-1)*m*n`.  \n",
    "  \n",
    "Answer:  \n",
    "- Number of multiplications = `k*m*n`\n",
    "- Number of additions = `(k-1)*m*n`"
   ]
  },
  {
   "cell_type": "markdown",
   "id": "33b77bc0",
   "metadata": {},
   "source": [
    "### Problem 2"
   ]
  },
  {
   "cell_type": "code",
   "execution_count": 16,
   "id": "fc2ecc80",
   "metadata": {},
   "outputs": [
    {
     "name": "stdout",
     "output_type": "stream",
     "text": [
      "\n",
      "Matrix sizes: (100x50) x (50x75)\n",
      "List implementation: 0.0259 seconds\n",
      "NumPy implementation: 0.0001 seconds\n",
      "\n",
      "Matrix sizes: (200x100) x (100x150)\n",
      "List implementation: 0.1362 seconds\n",
      "NumPy implementation: 0.0001 seconds\n",
      "\n",
      "Matrix sizes: (300x150) x (150x200)\n",
      "List implementation: 0.4020 seconds\n",
      "NumPy implementation: 0.0001 seconds\n"
     ]
    }
   ],
   "source": [
    "def matrix_multiply_numpy(A, B):\n",
    "    return np.dot(A, B)\n",
    "\n",
    "def matrix_multiply_lists(A, B):\n",
    "    n, k = len(A), len(A[0])\n",
    "    k2, m = len(B), len(B[0])\n",
    "    \n",
    "    if k != k2:\n",
    "        raise ValueError(\"Incompatible matrix dimensions\") # can't multiply\n",
    "    \n",
    "    # C = A*B (dimension: (n,m))\n",
    "    C = [[0 for _ in range(m)] for _ in range(n)]    \n",
    "    for i in range(n):\n",
    "        for j in range(m):\n",
    "            for l in range(k):\n",
    "                C[i][j] += A[i][l] * B[l][j]\n",
    "\n",
    "    return C\n",
    "\n",
    "#=======================================\n",
    "# Test with different matrix sizes\n",
    "sizes = [(100, 50, 75), (200, 100, 150), (300, 150, 200)]\n",
    "\n",
    "for n, k, m in sizes:\n",
    "    print(f\"\\nMatrix sizes: ({n}x{k}) x ({k}x{m})\")\n",
    "    \n",
    "    A_list = [[1+np.random.random()*10 for _ in range(k)] for _ in range(n)]\n",
    "    B_list = [[1+np.random.random()*10 for _ in range(m)] for _ in range(k)]\n",
    "    \n",
    "    A_numpy = np.array(A_list)\n",
    "    B_numpy = np.array(B_list)\n",
    "    \n",
    "    # time taken using lists\n",
    "    start_time = time.time()\n",
    "    C_list = matrix_multiply_lists(A_list, B_list)\n",
    "    list_time = time.time() - start_time\n",
    "    \n",
    "    # time taken using numpy\n",
    "    start_time = time.time()\n",
    "    C_numpy = matrix_multiply_numpy(A_numpy, B_numpy)\n",
    "    numpy_time = time.time() - start_time\n",
    "\n",
    "    print(f\"List implementation: {list_time:.4f} seconds\")\n",
    "    print(f\"NumPy implementation: {numpy_time:.4f} seconds\")\n"
   ]
  },
  {
   "cell_type": "markdown",
   "id": "adffb8fc",
   "metadata": {},
   "source": [
    "##### Why NumPy is faster:  \n",
    "NumPy is faster because it runs the math in optimized C/Fortran code that works on many numbers at once, while Python loops handle one number at a time in the interpreter, which is much slower.\n"
   ]
  },
  {
   "cell_type": "markdown",
   "id": "4976ca2a",
   "metadata": {},
   "source": [
    "### Problem 3"
   ]
  },
  {
   "cell_type": "markdown",
   "id": "0fe8bf0b",
   "metadata": {},
   "source": [
    "1st highest element takes one pass. Finding the 2nd highest element needs another pass, finding the 3rd highest element needs another pass, and so on. Median is the ~ (n/2)th highest element.\n",
    "So, using the naive approach as given in the problem, finding the median would need n/2 passes of whole array. Each pass takes $O(n)$ running time. Thus, the overall time complexity would be $O(n^2)$.  \n",
    "\n",
    "A better method is to sort the array and find the middle element. The time complexity would be $O(nlogn)$."
   ]
  },
  {
   "cell_type": "code",
   "execution_count": 17,
   "id": "1020afbb",
   "metadata": {},
   "outputs": [
    {
     "name": "stdout",
     "output_type": "stream",
     "text": [
      "\n",
      "Array size: 1000\n",
      "Naive method: 0.0132s\n",
      "Sorting method: 0.0002s\n",
      "Numpy median: 0.000201s\n",
      "Results:\n",
      " Naive: 0.509612, Sorting: 0.509612,  NumPy: 0.509612\n",
      "Results match:  True\n",
      "\n",
      "Array size: 5001\n",
      "Naive method: 0.3132s\n",
      "Sorting method: 0.0004s\n",
      "Numpy median: 0.000305s\n",
      "Results:\n",
      " Naive: 0.508269, Sorting: 0.508269,  NumPy: 0.508269\n",
      "Results match:  True\n",
      "\n",
      "Array size: 10003\n",
      "Naive method: 1.2469s\n",
      "Sorting method: 0.0009s\n",
      "Numpy median: 0.000387s\n",
      "Results:\n",
      " Naive: 0.500861, Sorting: 0.500861,  NumPy: 0.500861\n",
      "Results match:  True\n"
     ]
    }
   ],
   "source": [
    "def find_median_naive_passes(arr):\n",
    "    n = len(arr)\n",
    "    arr_copy = arr.copy()\n",
    "    \n",
    "    if n % 2 == 1:\n",
    "        for _ in range(n // 2):\n",
    "            max_idx = max(range(len(arr_copy)), key=arr_copy.__getitem__)  # O(n)\n",
    "            arr_copy[max_idx] = float('-inf')  # mark as removed\n",
    "        return max(arr_copy)\n",
    "    else:\n",
    "        for _ in range((n // 2) - 1):\n",
    "            max_idx = max(range(len(arr_copy)), key=arr_copy.__getitem__) # O(n)\n",
    "            arr_copy[max_idx] = float('-inf')\n",
    "        max1_idx = max(range(len(arr_copy)), key=arr_copy.__getitem__) # O(n)\n",
    "        max1 = arr_copy[max1_idx]\n",
    "        arr_copy[max1_idx] = float('-inf')\n",
    "        max2 = max(arr_copy)\n",
    "        return (max1 + max2) / 2\n",
    "\n",
    "def find_median_sorting(arr):\n",
    "    sorted_arr = sorted(arr)\n",
    "    n = len(sorted_arr)\n",
    "    if n % 2 == 1:\n",
    "        return sorted_arr[n // 2]\n",
    "    else:\n",
    "        return (sorted_arr[n // 2 - 1] + sorted_arr[n // 2]) / 2\n",
    "    \n",
    "\n",
    "#==============================================\n",
    "sizes = [1000, 5001, 10003]\n",
    "\n",
    "for size in sizes:\n",
    "    print(f\"\\nArray size: {size}\")\n",
    "    test_arr = [random.random() for _ in range(size)]\n",
    "    \n",
    "    # time taken through the naive method (n/2 passes)\n",
    "    start = time.time()\n",
    "    median_naive = find_median_naive_passes(test_arr)\n",
    "    naive_time = time.time() - start\n",
    "    \n",
    "    # time taken using sorting\n",
    "    start = time.time()\n",
    "    median_sorting = find_median_sorting(test_arr)\n",
    "    sorting_time = time.time() - start\n",
    "    \n",
    "    # time taken using numpy.median\n",
    "    start = time.time()\n",
    "    median_numpy = np.median(test_arr)\n",
    "    numpy_time = time.time() - start\n",
    "    \n",
    "    print(f\"Naive method: {naive_time:.4f}s\") \n",
    "    print(f\"Sorting method: {sorting_time:.4f}s\")\n",
    "    print(f\"Numpy median: {numpy_time:.6f}s\")\n",
    "    print(f\"Results:\\n Naive: {median_naive:.6f}, Sorting: {median_sorting:.6f},  NumPy: {median_numpy:.6f}\")\n",
    "    print(f\"Results match:  {abs(median_naive - median_sorting) < 1e-9 and abs(median_numpy - median_sorting) < 1e-9}\")\n",
    "\n"
   ]
  },
  {
   "cell_type": "markdown",
   "id": "9ff45975",
   "metadata": {},
   "source": [
    "#### Analysis\n",
    "These results clearly show the inefficiency of the naive $O(n^2)$ approach: its runtime grows rapidly with input size, reaching over a second for 10,000 elements. In contrast, the sorting-based $O(nlog⁡n)$ method remains orders of magnitude faster, completing in under a millisecond even for the largest array tested. NumPy’s median, implemented in optimized C, is consistently the fastest.  \n",
    "While all methods produce identical results, the naive pass-by-pass maximum removal is impractical for large datasets due to its quadratic time complexity."
   ]
  },
  {
   "cell_type": "markdown",
   "id": "ee845455",
   "metadata": {},
   "source": [
    "### Problem 4"
   ]
  },
  {
   "cell_type": "markdown",
   "id": "a7ae637a",
   "metadata": {},
   "source": [
    "The given function is:\n",
    "\n",
    "$$\n",
    "f(x, y) = x^2 y + y^3 \\sin(x)\n",
    "$$\n",
    "\n",
    "To find the gradient, we first compute the partial derivatives:\n",
    "\n",
    "$$\n",
    "\\frac{\\partial f}{\\partial x} = 2xy + y^3 \\cos(x)\n",
    "$$\n",
    "\n",
    "$$\n",
    "\\frac{\\partial f}{\\partial y} = x^2 + 3y^2 \\sin(x)\n",
    "$$\n",
    "\n",
    "So, the gradient is:\n",
    "\n",
    "$$\n",
    "\\nabla f(x, y) =\n",
    "\\left[\n",
    "2xy + y^3 \\cos(x),\n",
    "\\quad\n",
    "x^2 + 3y^2 \\sin(x)\n",
    "\\right]\n",
    "$$"
   ]
  },
  {
   "cell_type": "markdown",
   "id": "abd64fd1",
   "metadata": {},
   "source": [
    "### Problem 5"
   ]
  },
  {
   "cell_type": "code",
   "execution_count": 18,
   "id": "a60c4e2f",
   "metadata": {},
   "outputs": [
    {
     "name": "stdout",
     "output_type": "stream",
     "text": [
      "x = 1.370, y = -2.302\n",
      "  JAX:         (Array(-8.7441225, dtype=float32), Array(17.45463, dtype=float32))\n",
      "  Analytical:  (Array(-8.7441225, dtype=float32), Array(17.45463, dtype=float32))\n",
      "  Match: True\n",
      "\n",
      "x = -4.590, y = -4.835\n",
      "  JAX:         (Array(58.152237, dtype=float32), Array(90.67192, dtype=float32))\n",
      "  Analytical:  (Array(58.152237, dtype=float32), Array(90.67192, dtype=float32))\n",
      "  Match: True\n",
      "\n",
      "x = 3.133, y = 4.128\n",
      "  JAX:         (Array(-44.456413, dtype=float32), Array(10.268204, dtype=float32))\n",
      "  Analytical:  (Array(-44.456413, dtype=float32), Array(10.268204, dtype=float32))\n",
      "  Match: True\n",
      "\n",
      "x = 1.066, y = 2.295\n",
      "  JAX:         (Array(10.736485, dtype=float32), Array(14.96969, dtype=float32))\n",
      "  Analytical:  (Array(10.736485, dtype=float32), Array(14.96969, dtype=float32))\n",
      "  Match: True\n",
      "\n"
     ]
    }
   ],
   "source": [
    "import jax.numpy as jnp\n",
    "from jax import grad\n",
    "\n",
    "# gradient functions from Q4\n",
    "def grad_fx_analytical(x, y):\n",
    "    return 2 * x * y + y**3 * jnp.cos(x)\n",
    "\n",
    "def grad_fy_analytical(x, y):\n",
    "    return x**2 + 3 * y**2 * jnp.sin(x)\n",
    "\n",
    "# Function for JAX\n",
    "def f(x, y):\n",
    "    return x**2 * y + y**3 * jnp.sin(x)\n",
    "\n",
    "# JAX gradient\n",
    "grad_fx = grad(f, argnums=0)\n",
    "grad_fy = grad(f, argnums=1)\n",
    "\n",
    "# comparing results for a few random (x, y)\n",
    "rng = np.random.default_rng(0)\n",
    "for _ in range(4):\n",
    "    x_val, y_val = rng.uniform(-5, 5, size=2)\n",
    "    grad_jax = (grad_fx(x_val, y_val), grad_fy(x_val, y_val))\n",
    "    grad_analytical = (grad_fx_analytical(x_val, y_val), grad_fy_analytical(x_val, y_val))\n",
    "    \n",
    "    print(f\"x = {x_val:.3f}, y = {y_val:.3f}\")\n",
    "    print(f\"  JAX:         {grad_jax}\")\n",
    "    print(f\"  Analytical:  {grad_analytical}\")\n",
    "    print(f\"  Match: {np.allclose(grad_jax, grad_analytical, atol=1e-8)}\\n\")\n"
   ]
  },
  {
   "cell_type": "markdown",
   "id": "d379e3d6",
   "metadata": {},
   "source": [
    "We computed the gradient both using the analytical formulas from Q4:\n",
    "\n",
    "$$\n",
    "\\frac{\\partial f}{\\partial x} = 2xy + y^3 \\cos(x)\n",
    "\\quad,\\quad\n",
    "\\frac{\\partial f}{\\partial y} = x^2 + 3y^2 \\sin(x)\n",
    "$$\n",
    "\n",
    "and using JAX.\n",
    "\n",
    "For several random $(x, y)$ pairs, `np.allclose` confirmed that the results match to within absolute tolerance ($10^{-8}$). This proves the correctness of the gradient found out in Q4."
   ]
  },
  {
   "cell_type": "markdown",
   "id": "4e78b403",
   "metadata": {},
   "source": [
    "### Problem 6"
   ]
  },
  {
   "cell_type": "code",
   "execution_count": 19,
   "id": "56e55839",
   "metadata": {},
   "outputs": [
    {
     "name": "stdout",
     "output_type": "stream",
     "text": [
      "SymPy gradient:\n",
      "df/dx = 2*x*y + y**3*cos(x)\n",
      "df/dy = x**2 + 3*y**2*sin(x)\n",
      "\n",
      "Matches analytical df/dx? -> True\n",
      "Matches analytical df/dy? -> True\n"
     ]
    }
   ],
   "source": [
    "import sympy as sp\n",
    "\n",
    "x, y = sp.symbols('x y')\n",
    "f_sym = (x**2)*y + (y**3) * sp.sin(x) # given function\n",
    "\n",
    "# compute gradient\n",
    "df_dx_sym = sp.diff(f_sym, x)\n",
    "df_dy_sym = sp.diff(f_sym, y)\n",
    "\n",
    "# analytical gradients from Q4\n",
    "df_dx_analytical = 2*x*y + y**3 * sp.cos(x)\n",
    "df_dy_analytical = x**2 + 3*y**2 * sp.sin(x)\n",
    "\n",
    "print(\"SymPy gradient:\")\n",
    "print(\"df/dx =\", df_dx_sym)\n",
    "print(\"df/dy =\", df_dy_sym)\n",
    "\n",
    "# to check if they match the analytical gradient from Problem 4\n",
    "print(\"\\nMatches analytical df/dx? ->\", sp.simplify(df_dx_sym - df_dx_analytical) == 0)\n",
    "print(\"Matches analytical df/dy? ->\", sp.simplify(df_dy_sym - df_dy_analytical) == 0)\n"
   ]
  },
  {
   "cell_type": "markdown",
   "id": "4887e872",
   "metadata": {},
   "source": [
    "From SymPy, we obtain:\n",
    "\n",
    "$$\n",
    "\\frac{\\partial f}{\\partial x} = 2xy + y^3 \\cos(x)\n",
    "$$\n",
    "$$\n",
    "\\frac{\\partial f}{\\partial y} = x^2 + 3y^2 \\sin(x)\n",
    "$$\n",
    "\n",
    "These match the analytical results found out in Problem 4 and confirm the correctness of our gradient.\n"
   ]
  },
  {
   "cell_type": "markdown",
   "id": "28760d86",
   "metadata": {},
   "source": [
    "### Problem 7\n",
    "The given hierarchical info is represented in a nested dictionary as:  \n",
    "`{ year -> { branch -> { roll_number -> { \"name\": ..., \"marks\": { subject: score, ... } } } } }`"
   ]
  },
  {
   "cell_type": "code",
   "execution_count": 20,
   "id": "2a7b0ee1",
   "metadata": {},
   "outputs": [
    {
     "name": "stdout",
     "output_type": "stream",
     "text": [
      "Student 2022 Branch1 roll no. 1: {'name': 'Rohit', 'marks': {'Maths': 100, 'English': 70}}\n",
      "{2022: {'Branch1': {1: {'marks': {'English': 70, 'Maths': 100},\n",
      "                        'name': 'Rohit'},\n",
      "                    2: {'marks': {'English': 75, 'Maths': 85}, 'name': 'Raj'}},\n",
      "        'Branch2': {3: {'marks': {'English': 80, 'Maths': 90},\n",
      "                        'name': 'Cherno'}}},\n",
      " 2023: {'Branch1': {4: {'marks': {'English': 88, 'Maths': 78},\n",
      "                        'name': 'Elon'}}}}\n"
     ]
    }
   ],
   "source": [
    "from typing import Dict\n",
    "import pprint\n",
    "\n",
    "# database: year -> branch -> roll -> student_record\n",
    "students_db: Dict[int, Dict[str, Dict[int, Dict]]] = {}\n",
    "\n",
    "def add_student_dict(db, year: int, branch: str, roll: int, name: str, marks: dict):\n",
    "    year_dict = db.setdefault(year, {})\n",
    "    branch_dict = year_dict.setdefault(branch, {})\n",
    "    branch_dict[roll] = {\"name\": name, \"marks\": dict(marks)}\n",
    "\n",
    "def get_student_dict(db, year: int, branch: str, roll: int):\n",
    "    return db.get(year, {}).get(branch, {}).get(roll)\n",
    "\n",
    "# add some data\n",
    "add_student_dict(students_db, 2022, \"Branch1\", 1, \"Rohit\", {\"Maths\": 100, \"English\": 70})\n",
    "add_student_dict(students_db, 2022, \"Branch1\", 2, \"Raj\",   {\"Maths\": 85,  \"English\": 75})\n",
    "add_student_dict(students_db, 2022, \"Branch2\", 3, \"Cherno\", {\"Maths\": 90,  \"English\": 80})\n",
    "add_student_dict(students_db, 2023, \"Branch1\", 4, \"Elon\",   {\"Maths\": 78,  \"English\": 88})\n",
    "\n",
    "# test\n",
    "print(\"Student 2022 Branch1 roll no. 1:\", get_student_dict(students_db, 2022, \"Branch1\", 1))\n",
    "\n",
    "pprint.pprint(students_db)\n"
   ]
  },
  {
   "cell_type": "markdown",
   "id": "0f79a58c",
   "metadata": {},
   "source": [
    "### Problem 8\n"
   ]
  },
  {
   "cell_type": "code",
   "execution_count": 21,
   "id": "e847d82a",
   "metadata": {},
   "outputs": [
    {
     "name": "stdout",
     "output_type": "stream",
     "text": [
      "Found student: Student(roll=1, name=Rohit) marks: {'Maths': 100, 'English': 70}\n",
      "{2022: {'Branch1': {1: {'marks': {'English': 70, 'Maths': 100},\n",
      "                        'name': 'Rohit',\n",
      "                        'roll': 1},\n",
      "                    2: {'marks': {'English': 75, 'Maths': 85},\n",
      "                        'name': 'Raj',\n",
      "                        'roll': 2}},\n",
      "        'Branch2': {3: {'marks': {'English': 80, 'Maths': 90},\n",
      "                        'name': 'Cherno',\n",
      "                        'roll': 3}}},\n",
      " 2023: {'Branch1': {4: {'marks': {'English': 88, 'Maths': 78},\n",
      "                        'name': 'Elon',\n",
      "                        'roll': 4}}}}\n"
     ]
    }
   ],
   "source": [
    "from typing import Dict, Optional\n",
    "\n",
    "class Student:\n",
    "    def __init__(self, roll: int, name: str, marks: dict):\n",
    "        self.roll = int(roll)\n",
    "        self.name = name\n",
    "        self.marks = dict(marks)\n",
    "    def to_dict(self):\n",
    "        return {\"roll\": self.roll, \"name\": self.name, \"marks\": dict(self.marks)}\n",
    "    def __repr__(self):\n",
    "        return f\"Student(roll={self.roll}, name={self.name})\"\n",
    "\n",
    "class Branch:\n",
    "    def __init__(self, name: str):\n",
    "        self.name = name\n",
    "        self.students: Dict[int, Student] = {}\n",
    "    def add_student(self, student: Student):\n",
    "        self.students[student.roll] = student\n",
    "    def get_student(self, roll: int) -> Optional[Student]:\n",
    "        return self.students.get(roll)\n",
    "    def to_dict(self):\n",
    "        return {roll: s.to_dict() for roll, s in self.students.items()}\n",
    "    def __repr__(self):\n",
    "        return f\"Branch({self.name}, students={len(self.students)})\" # no. of students in a given branch\n",
    "\n",
    "class Year:\n",
    "    def __init__(self, year: int):\n",
    "        self.year = int(year)\n",
    "        self.branches: Dict[str, Branch] = {}\n",
    "    def add_branch(self, branch: Branch):\n",
    "        self.branches[branch.name] = branch\n",
    "    def get_branch(self, name: str) -> Optional[Branch]:\n",
    "        return self.branches.get(name)\n",
    "    def to_dict(self):\n",
    "        return {bname: b.to_dict() for bname, b in self.branches.items()}\n",
    "    def __repr__(self):\n",
    "        return f\"Year({self.year}, branches={list(self.branches.keys())})\"\n",
    "\n",
    "class Database:\n",
    "    def __init__(self):\n",
    "        self.years: Dict[int, Year] = {}\n",
    "    def add_year(self, year: Year):\n",
    "        self.years[year.year] = year\n",
    "    def get_year(self, year: int) -> Optional[Year]:\n",
    "        return self.years.get(year)\n",
    "    def add_student(self, year: int, branch: str, student: Student):\n",
    "        y = self.years.setdefault(year, Year(year))\n",
    "        b = y.branches.setdefault(branch, Branch(branch))\n",
    "        b.add_student(student)\n",
    "    def find_student(self, year: int, branch: str, roll: int) -> Optional[Student]:\n",
    "        y = self.years.get(year)\n",
    "        if not y:\n",
    "            return None\n",
    "        b = y.get_branch(branch)\n",
    "        if not b:\n",
    "            return None\n",
    "        return b.get_student(roll)\n",
    "    def to_dict(self):\n",
    "        return {y: yr.to_dict() for y, yr in self.years.items()}\n",
    "\n",
    "# test\n",
    "db = Database()\n",
    "db.add_student(2022, \"Branch1\", Student(1, \"Rohit\", {\"Maths\":100, \"English\":70}))\n",
    "db.add_student(2022, \"Branch1\", Student(2, \"Raj\",   {\"Maths\":85, \"English\":75}))\n",
    "db.add_student(2022, \"Branch2\", Student(3, \"Cherno\", {\"Maths\":90, \"English\":80}))\n",
    "db.add_student(2023, \"Branch1\", Student(4, \"Elon\",   {\"Maths\":78, \"English\":88}))\n",
    "\n",
    "# queries\n",
    "s = db.find_student(2022, \"Branch1\", 1)\n",
    "print(\"Found student:\", s, \"marks:\", s.marks if s else None)\n",
    "\n",
    "# convert full DB to nested dict\n",
    "import pprint\n",
    "pprint.pprint(db.to_dict())\n"
   ]
  },
  {
   "cell_type": "markdown",
   "id": "a38e7022",
   "metadata": {},
   "source": [
    "### Problem 9"
   ]
  },
  {
   "cell_type": "code",
   "execution_count": 22,
   "id": "e85fb678",
   "metadata": {},
   "outputs": [
    {
     "data": {
      "image/png": "[encoded data removed]",
      "text/plain": [
       "<Figure size 1200x500 with 1 Axes>"
      ]
     },
     "metadata": {},
     "output_type": "display_data"
    }
   ],
   "source": [
    "# Domain\n",
    "x = np.arange(0.5, 100.5, 0.5)\n",
    "\n",
    "# Functions\n",
    "y1 = x\n",
    "y2 = x**2\n",
    "y3 = x**3 / 100\n",
    "y4 = np.sin(x)\n",
    "y5 = np.sin(x) / x\n",
    "y6 = np.log(x)\n",
    "y7 = np.exp(x)\n",
    "\n",
    "plt.figure(figsize=(12, 5))\n",
    "\n",
    "plt.plot(x, y1, label='y = x')\n",
    "plt.plot(x, y2, label='y = x^2')\n",
    "plt.plot(x, y3, label='y = x^3 / 100')\n",
    "plt.plot(x, y4, label='y = sin(x)')\n",
    "plt.plot(x, y5, label='y = sin(x) / x')\n",
    "plt.plot(x, y6, label='y = log(x)')\n",
    "plt.plot(x, y7, label='y = exp(x)')\n",
    "\n",
    "plt.ylim(-2, 15)  # limit y-axis for better visibility\n",
    "plt.xlabel('x')\n",
    "plt.ylabel('y')\n",
    "plt.title('Problem 9')\n",
    "plt.legend()\n",
    "plt.grid(True)\n",
    "plt.show()\n"
   ]
  },
  {
   "cell_type": "markdown",
   "id": "3596b487",
   "metadata": {},
   "source": [
    "### Problem 10"
   ]
  },
  {
   "cell_type": "code",
   "execution_count": 23,
   "id": "ec46ad9d",
   "metadata": {},
   "outputs": [
    {
     "name": "stdout",
     "output_type": "stream",
     "text": [
      "          a         b         c         d         e\n",
      "0  1.941036  1.193140  1.017399  1.799717  1.567862\n",
      "1  1.813723  1.954370  1.749187  1.143698  1.391684\n",
      "2  1.721250  1.566830  1.211768  1.794971  1.223626\n",
      "3  1.788560  1.197056  1.421179  1.605074  1.217483\n",
      "4  1.990994  1.713305  1.143900  1.843634  1.678097\n",
      "\n",
      "Column with highest std: d\n",
      "Row index with lowest mean: 11\n"
     ]
    }
   ],
   "source": [
    "# random matrix\n",
    "data = np.random.uniform(1, 2, size=(20, 5))\n",
    "\n",
    "# create corresponding dataframe\n",
    "df = pd.DataFrame(data, columns=['a', 'b', 'c', 'd', 'e'])\n",
    "print(df.head())\n",
    "print()\n",
    "\n",
    "# column with highest standard deviation\n",
    "col_max_std = df.std().idxmax()\n",
    "\n",
    "# row with lowest mean\n",
    "row_min_mean_idx = df.mean(axis=1).idxmin() # returns index of row \n",
    "\n",
    "print(\"Column with highest std:\", col_max_std)\n",
    "print(\"Row index with lowest mean:\", row_min_mean_idx)\n"
   ]
  },
  {
   "cell_type": "markdown",
   "id": "84c9b87f",
   "metadata": {},
   "source": [
    "### Problem 11"
   ]
  },
  {
   "cell_type": "code",
   "execution_count": 24,
   "id": "ebfca44f",
   "metadata": {},
   "outputs": [
    {
     "name": "stdout",
     "output_type": "stream",
     "text": [
      "          a         b         c         d         e         f    g\n",
      "0  1.941036  1.193140  1.017399  1.799717  1.567862  7.519154  LT8\n",
      "1  1.813723  1.954370  1.749187  1.143698  1.391684  8.052663  GT8\n",
      "2  1.721250  1.566830  1.211768  1.794971  1.223626  7.518446  LT8\n",
      "3  1.788560  1.197056  1.421179  1.605074  1.217483  7.229353  LT8\n",
      "4  1.990994  1.713305  1.143900  1.843634  1.678097  8.369931  GT8\n",
      "\n",
      "Number of rows where g is LT8 = 14\n",
      "Std dev of f for LT8 = 0.32159643450756986\n",
      "Std dev of f for GT8 = 0.1677729344350873\n"
     ]
    }
   ],
   "source": [
    "df['f'] = df[['a', 'b', 'c', 'd', 'e']].sum(axis=1) # sum of columns a,b,c,d,e\n",
    "df['g'] = np.where(df['f'] < 8, 'LT8', 'GT8')\n",
    "print(df.head())\n",
    "print()\n",
    "\n",
    "# count of rows where g is 'LT8'\n",
    "lt8_count = (df['g'] == 'LT8').sum()\n",
    "\n",
    "# Standard deviation of f for LT8 and GT8 separately\n",
    "std_lt8 = df.loc[df['g'] == 'LT8', 'f'].std()\n",
    "std_gt8 = df.loc[df['g'] == 'GT8', 'f'].std()\n",
    "\n",
    "print(\"Number of rows where g is LT8 =\", lt8_count)\n",
    "print(\"Std dev of f for LT8 =\", std_lt8)\n",
    "print(\"Std dev of f for GT8 =\", std_gt8)\n"
   ]
  },
  {
   "cell_type": "markdown",
   "id": "f056c430",
   "metadata": {},
   "source": [
    "### Problem 12"
   ]
  },
  {
   "cell_type": "code",
   "execution_count": 25,
   "id": "9547910e",
   "metadata": {},
   "outputs": [
    {
     "name": "stdout",
     "output_type": "stream",
     "text": [
      "[[1]\n",
      " [2]\n",
      " [3]]\n",
      "\n",
      "[10 20 30]\n",
      "\n",
      "[[11 21 31]\n",
      " [12 22 32]\n",
      " [13 23 33]]\n"
     ]
    }
   ],
   "source": [
    "# Example to example broadcasting in Numpy\n",
    "arr = np.array([[1], \n",
    "                [2], \n",
    "                [3]])           # Shape: (3, 1) # column vector\n",
    "\n",
    "vec = np.array([10, 20, 30])    # Shape: (3,) # row vector (treated as (1,3) for broadcasting)\n",
    "\n",
    "result = arr + vec # broadcasting happens here (will stretch shapes to match)\n",
    "# it is like that the single column in arr is repeated three times, and the single row in vec is also repeated 3 times, to match the shape ((3,3))\n",
    "print(arr)\n",
    "print()\n",
    "print(vec)\n",
    "print()\n",
    "print(result)\n"
   ]
  },
  {
   "cell_type": "markdown",
   "id": "325b1c94",
   "metadata": {},
   "source": [
    "##### Broadcasting in NumPy:  \n",
    "When NumPy tries to add (or multiply, etc.) two arrays, it compares their shapes one dimension at a time, starting from the last dimension (the rightmost number in the shape tuple).\n",
    "\n",
    "- If the two dimensions are equal, they’re compatible.  \n",
    "- If one of them is 1, numpy stretches it to match the other.  \n",
    "- If neither of these is true, broadcasting fails (shape mismatch error)."
   ]
  },
  {
   "cell_type": "markdown",
   "id": "57e18b5a",
   "metadata": {},
   "source": [
    "### Problem 13"
   ]
  },
  {
   "cell_type": "code",
   "execution_count": 26,
   "id": "18a1e793",
   "metadata": {},
   "outputs": [
    {
     "name": "stdout",
     "output_type": "stream",
     "text": [
      "Custom argmin: 3\n",
      "NumPy argmin: 3\n"
     ]
    }
   ],
   "source": [
    "def my_argmin(arr):\n",
    "    min_index = 0\n",
    "    min_value = arr[0]\n",
    "    for i in range(1, len(arr)):\n",
    "        if arr[i] < min_value:\n",
    "            min_value = arr[i]\n",
    "            min_index = i\n",
    "    return min_index\n",
    "\n",
    "# Example usage\n",
    "arr = np.array([5, 2, 9, 1, 7])\n",
    "print(\"Custom argmin:\", my_argmin(arr))\n",
    "print(\"NumPy argmin:\", np.argmin(arr))"
   ]
  },
  {
   "cell_type": "code",
   "execution_count": null,
   "id": "6334cd96",
   "metadata": {},
   "outputs": [],
   "source": []
  }
 ],
 "metadata": {
  "kernelspec": {
   "display_name": "venv (3.13.2)",
   "language": "python",
   "name": "python3"
  },
  "language_info": {
   "codemirror_mode": {
    "name": "ipython",
    "version": 3
   },
   "file_extension": ".py",
   "mimetype": "text/x-python",
   "name": "python",
   "nbconvert_exporter": "python",
   "pygments_lexer": "ipython3",
   "version": "3.13.2"
  }
 },
 "nbformat": 4,
 "nbformat_minor": 5
}
